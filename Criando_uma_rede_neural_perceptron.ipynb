{
  "nbformat": 4,
  "nbformat_minor": 0,
  "metadata": {
    "colab": {
      "name": "Criando uma rede neural perceptron",
      "provenance": [],
      "collapsed_sections": [],
      "authorship_tag": "ABX9TyPZxl1OwefYhR2wBMD/kd7Z"
    },
    "kernelspec": {
      "name": "python3",
      "display_name": "Python 3"
    },
    "language_info": {
      "name": "python"
    }
  },
  "cells": [
    {
      "cell_type": "code",
      "execution_count": 291,
      "metadata": {
        "id": "Uk9ObqJiyK7q"
      },
      "outputs": [],
      "source": [
        "# BIBLIOTECAS NECESSÁRIAS\n",
        "import numpy as np\n",
        "import matplotlib.pyplot as plt"
      ]
    },
    {
      "cell_type": "code",
      "source": [
        "NumeroEpocas = 40     # NÚMERO DE ÉPOCAS\n",
        "\n",
        "q = 13                # NÚMERO DE PADRÕES\n",
        "\n",
        "eta = 0.02            # TAXA DE APRENDIZADO\n",
        "\n",
        "M = 2                 # NÚMERO DE NEURÔNIOS NA CAMADA DE ENTRADA\n",
        "\n",
        "N = 2                 # NÚMERO DE NEURÔNIOS NA CAMADA ESCONDIDA\n",
        "\n",
        "L = 1                 # NÚMERO DE NEURÔNIOS NA CAMADA DE SAÍDA\n",
        "\n",
        "# OBS: PODE-SE MUDAR OS VALORES DE 'NumeroEpocas', 'eta' E 'N', DA REDE PARA ESTUDAR OS DIFERENTES RESULTADOS DE TREINAMENTO."
      ],
      "metadata": {
        "id": "PNhWy2DN2lIC"
      },
      "execution_count": 292,
      "outputs": []
    },
    {
      "cell_type": "code",
      "source": [
        "# CARREGAR OS DADOS DE TREINAMENTO\n",
        "peso = np.array ([113, 122, 107, 98, 115, 120, 104, 108, 117, 101, 112, 106, 116])\n",
        "ph = np.array ([6.8, 4.7, 5.2, 3.6, 2.9, 4.2, 6.3, 4.0, 6.3, 4.2, 5.6, 3.1, 5.0])"
      ],
      "metadata": {
        "id": "wL-I3A-S3IYK"
      },
      "execution_count": 278,
      "outputs": []
    },
    {
      "cell_type": "code",
      "source": [
        "# VETOR DE CLASSIFICAÇÃO DESEJADA\n",
        "d = np.array ([-1, 1, -1, 1, 1, 1, -1, 1, -1, 1, -1, 1, -1])"
      ],
      "metadata": {
        "id": "9y7rMY-34HGu"
      },
      "execution_count": 279,
      "outputs": []
    },
    {
      "cell_type": "code",
      "source": [
        "# INICIAR ALEATORIAMENTE AS MATRIZES DE PESOS\n",
        "W1 = np.random.random ((N, M + 1))\n",
        "W2 = np.random.random ((L, N + 1))"
      ],
      "metadata": {
        "id": "mziFZCj49XvK"
      },
      "execution_count": 280,
      "outputs": []
    },
    {
      "cell_type": "code",
      "source": [
        "# ARRAY PARA ARMAZENAR OS ERROS\n",
        "E = np.zeros(q)\n",
        "etm = np.zeros (NumeroEpocas)"
      ],
      "metadata": {
        "id": "6acijPcv-AvP"
      },
      "execution_count": 281,
      "outputs": []
    },
    {
      "cell_type": "code",
      "source": [
        "# BIAS\n",
        "bias = 1"
      ],
      "metadata": {
        "id": "U7tNleXo-wHC"
      },
      "execution_count": 282,
      "outputs": []
    },
    {
      "cell_type": "code",
      "source": [
        "# ENTRADA DO PERCEPTRON\n",
        "x = np.vstack ((peso, ph))"
      ],
      "metadata": {
        "id": "_4GGtkbT--4p"
      },
      "execution_count": 283,
      "outputs": []
    },
    {
      "cell_type": "markdown",
      "source": [
        "## TREINAMENTO DA REDE"
      ],
      "metadata": {
        "id": "6xFtwLHEb74t"
      }
    },
    {
      "cell_type": "code",
      "source": [
        "for i in range (NumeroEpocas):\n",
        "  for j in range (q):\n",
        "\n",
        "    # INSERE O BIAS NO VATOR DE ENTRADA\n",
        "    xb = np.hstack ((bias, x[:, j]))\n",
        "    # SAÍDA DA CAMADA ESCONDIDA\n",
        "    O1 = np.tanh (W1.dot(xb))\n",
        "    # INSERINDO O BIAS. SAÍDA DA CAMADA ESCONDIDA É A ENTRADA DA CAMADA DE SAÍDA\n",
        "    O1b = np.insert (O1, 0, bias)\n",
        "    # NEURÔNIO NETWORK OUTPUT\n",
        "    y = np.tanh (W2.dot(O1b))   # EQUAÇÕES (3) E (4) JUNTAS\n",
        "    e = d[j] - y                # EQUAÇÃO (5)\n",
        "    # ERRO TOTAL\n",
        "    E[j] = (e.transpose().dot(e))/2   # EQUAÇAO DE ERRO QUADRÁTICO\n",
        "    # IMPRIMIR O NÚMERO DA ÉPOCA E O ERRO TOTAL\n",
        "\n",
        "    # ERROR BACKPROPAGATION\n",
        "    # CÁLCULO DO GRADIENTE NA CAMADA DE SAÍDA\n",
        "    delta2 = np.diag(e).dot((1 - y * y))            #EQ(6)\n",
        "    vdelta2 = (W2.transpose()).dot(delta2)          #EQ(7)\n",
        "    delta1 = np.diag (1 - O1b * O1b).dot(vdelta2)   #EQ(8)\n",
        "\n",
        "    # ATUALIZAÇÃO DOS PESOS\n",
        "    W1 = W1 + eta*(np.outer(delta1[:1], xb))\n",
        "    W2 = W2 + eta*(np.outer(delta2, O1b))\n",
        "  \n",
        "  etm[i] = E.mean()\n",
        "\n",
        "plt.plot(etm)\n",
        "plt.show()"
      ],
      "metadata": {
        "colab": {
          "base_uri": "https://localhost:8080/",
          "height": 265
        },
        "id": "uxe8lyhy_Ktf",
        "outputId": "c9cef8eb-b74f-4485-881f-d346861e64cf"
      },
      "execution_count": 284,
      "outputs": [
        {
          "output_type": "display_data",
          "data": {
            "text/plain": [
              "<Figure size 432x288 with 1 Axes>"
            ],
            "image/png": "[encoded data removed]"
          },
          "metadata": {
            "needs_background": "light"
          }
        }
      ]
    },
    {
      "cell_type": "code",
      "source": [
        "# OBS: O GRÁFICO MOSTRAR A CURVA DE APRENDIZADO DA REDE"
      ],
      "metadata": {
        "id": "ZuTOAliIekbY"
      },
      "execution_count": 285,
      "outputs": []
    },
    {
      "cell_type": "markdown",
      "source": [
        "# RESULTADO DO TREINAMENTO"
      ],
      "metadata": {
        "id": "W_iUkmzua0sx"
      }
    },
    {
      "cell_type": "code",
      "source": [
        "error_teste = np.zeros(q)\n",
        "\n",
        "for i in range (q):\n",
        "  # INSERIR A BIAS NO VETOR DE ENTRADA\n",
        "  xb = np.hstack((bias, x [:, i]))\n",
        "\n",
        "  #SAÍDA DA CAMADA ESCONDIDA\n",
        "  O1 = np.tanh (W1.dot(xb))\n",
        "\n",
        "  #INCLUINDO O BIAS. SAÍDA DA CAMADA ESCONDIDA É A ENTRADA DA CAMADA DE SAÍDA\n",
        "  O1b = np.insert (O1, 0, bias)\n",
        "\n",
        "  # NEURAL NETWORK OUTPUT\n",
        "  y = np.tanh (W2.dot(O1b))\n",
        "\n",
        "  error_teste [i] = d[i] - y\n",
        "\n",
        "  print(error_teste)\n",
        "  print(np.round(error_teste) - d)"
      ],
      "metadata": {
        "colab": {
          "base_uri": "https://localhost:8080/"
        },
        "id": "KbtPwCvlasEJ",
        "outputId": "ed6ac6ac-0e41-4573-85d2-a965d5493b89"
      },
      "execution_count": 286,
      "outputs": [
        {
          "output_type": "stream",
          "name": "stdout",
          "text": [
            "[-1.05773023  0.          0.          0.          0.          0.\n",
            "  0.          0.          0.          0.          0.          0.\n",
            "  0.        ]\n",
            "[ 0. -1.  1. -1. -1. -1.  1. -1.  1. -1.  1. -1.  1.]\n",
            "[-1.05773023  0.94226977  0.          0.          0.          0.\n",
            "  0.          0.          0.          0.          0.          0.\n",
            "  0.        ]\n",
            "[ 0.  0.  1. -1. -1. -1.  1. -1.  1. -1.  1. -1.  1.]\n",
            "[-1.05773023  0.94226977 -1.05773023  0.          0.          0.\n",
            "  0.          0.          0.          0.          0.          0.\n",
            "  0.        ]\n",
            "[ 0.  0.  0. -1. -1. -1.  1. -1.  1. -1.  1. -1.  1.]\n",
            "[-1.05773023  0.94226977 -1.05773023  0.94226978  0.          0.\n",
            "  0.          0.          0.          0.          0.          0.\n",
            "  0.        ]\n",
            "[ 0.  0.  0.  0. -1. -1.  1. -1.  1. -1.  1. -1.  1.]\n",
            "[-1.05773023  0.94226977 -1.05773023  0.94226978  0.94226977  0.\n",
            "  0.          0.          0.          0.          0.          0.\n",
            "  0.        ]\n",
            "[ 0.  0.  0.  0.  0. -1.  1. -1.  1. -1.  1. -1.  1.]\n",
            "[-1.05773023  0.94226977 -1.05773023  0.94226978  0.94226977  0.94226977\n",
            "  0.          0.          0.          0.          0.          0.\n",
            "  0.        ]\n",
            "[ 0.  0.  0.  0.  0.  0.  1. -1.  1. -1.  1. -1.  1.]\n",
            "[-1.05773023  0.94226977 -1.05773023  0.94226978  0.94226977  0.94226977\n",
            " -1.05773022  0.          0.          0.          0.          0.\n",
            "  0.        ]\n",
            "[ 0.  0.  0.  0.  0.  0.  0. -1.  1. -1.  1. -1.  1.]\n",
            "[-1.05773023  0.94226977 -1.05773023  0.94226978  0.94226977  0.94226977\n",
            " -1.05773022  0.94226977  0.          0.          0.          0.\n",
            "  0.        ]\n",
            "[ 0.  0.  0.  0.  0.  0.  0.  0.  1. -1.  1. -1.  1.]\n",
            "[-1.05773023  0.94226977 -1.05773023  0.94226978  0.94226977  0.94226977\n",
            " -1.05773022  0.94226977 -1.05773023  0.          0.          0.\n",
            "  0.        ]\n",
            "[ 0.  0.  0.  0.  0.  0.  0.  0.  0. -1.  1. -1.  1.]\n",
            "[-1.05773023  0.94226977 -1.05773023  0.94226978  0.94226977  0.94226977\n",
            " -1.05773022  0.94226977 -1.05773023  0.94226978  0.          0.\n",
            "  0.        ]\n",
            "[ 0.  0.  0.  0.  0.  0.  0.  0.  0.  0.  1. -1.  1.]\n",
            "[-1.05773023  0.94226977 -1.05773023  0.94226978  0.94226977  0.94226977\n",
            " -1.05773022  0.94226977 -1.05773023  0.94226978 -1.05773023  0.\n",
            "  0.        ]\n",
            "[ 0.  0.  0.  0.  0.  0.  0.  0.  0.  0.  0. -1.  1.]\n",
            "[-1.05773023  0.94226977 -1.05773023  0.94226978  0.94226977  0.94226977\n",
            " -1.05773022  0.94226977 -1.05773023  0.94226978 -1.05773023  0.94226978\n",
            "  0.        ]\n",
            "[0. 0. 0. 0. 0. 0. 0. 0. 0. 0. 0. 0. 1.]\n",
            "[-1.05773023  0.94226977 -1.05773023  0.94226978  0.94226977  0.94226977\n",
            " -1.05773022  0.94226977 -1.05773023  0.94226978 -1.05773023  0.94226978\n",
            " -1.05773023]\n",
            "[0. 0. 0. 0. 0. 0. 0. 0. 0. 0. 0. 0. 0.]\n"
          ]
        }
      ]
    },
    {
      "cell_type": "code",
      "source": [
        "# OBS: SI TODOS OS NÚMEROS DA ÚLTIMA ÉPOCA DO TREINAMENTO ESTIVER '0' SIGNIFICA QUE A REDE ACERTOS TODOS"
      ],
      "metadata": {
        "id": "BpC75Q6UlJVX"
      },
      "execution_count": 287,
      "outputs": []
    },
    {
      "cell_type": "markdown",
      "source": [
        "# TESTE DA REDE COM DADOS QUE AINDA NÃO VIU"
      ],
      "metadata": {
        "id": "0XAtx7FXgWUF"
      }
    },
    {
      "cell_type": "code",
      "source": [
        "# CARREGAR OS DADOS DE TESTE\n",
        "peso = np.array ([110, 113, 120, 125, 97])\n",
        "ph = np.array ([6.0, 4.4, 3.5, 5.5, 5.0])"
      ],
      "metadata": {
        "id": "d_Ca46J0gkwK"
      },
      "execution_count": 288,
      "outputs": []
    },
    {
      "cell_type": "code",
      "source": [
        "# VETOR DE CLASSIFICAÇÃO DESEJADA\n",
        "d = np.array ([-1, -1, 1, 1, 1])"
      ],
      "metadata": {
        "id": "5XAnpmQUhKGW"
      },
      "execution_count": 289,
      "outputs": []
    },
    {
      "cell_type": "code",
      "source": [
        "error_teste = np.zeros(5)\n",
        "\n",
        "for i in range (5):\n",
        "  # INSERIR A BIAS NO VETOR DE ENTRADA\n",
        "  xb = np.hstack((bias, x [:, i]))\n",
        "\n",
        "  #SAÍDA DA CAMADA ESCONDIDA\n",
        "  O1 = np.tanh (W1.dot(xb))\n",
        "\n",
        "  #INCLUINDO O BIAS. SAÍDA DA CAMADA ESCONDIDA É A ENTRADA DA CAMADA DE SAÍDA\n",
        "  O1b = np.insert (O1, 0, bias)\n",
        "\n",
        "  # NEURAL NETWORK OUTPUT\n",
        "  y = np.tanh (W2.dot(O1b))\n",
        "\n",
        "  error_teste [i] = d[i] - y\n",
        "\n",
        "  print(error_teste)\n",
        "  print(np.round(error_teste) - d)"
      ],
      "metadata": {
        "colab": {
          "base_uri": "https://localhost:8080/"
        },
        "id": "jMO2lbE8hTI4",
        "outputId": "a840cd05-aadb-4010-a254-98544026b03a"
      },
      "execution_count": 290,
      "outputs": [
        {
          "output_type": "stream",
          "name": "stdout",
          "text": [
            "[-1.05773023  0.          0.          0.          0.        ]\n",
            "[ 0.  1. -1. -1. -1.]\n",
            "[-1.05773023 -1.05773023  0.          0.          0.        ]\n",
            "[ 0.  0. -1. -1. -1.]\n",
            "[-1.05773023 -1.05773023  0.94226977  0.          0.        ]\n",
            "[ 0.  0.  0. -1. -1.]\n",
            "[-1.05773023 -1.05773023  0.94226977  0.94226978  0.        ]\n",
            "[ 0.  0.  0.  0. -1.]\n",
            "[-1.05773023 -1.05773023  0.94226977  0.94226978  0.94226977]\n",
            "[0. 0. 0. 0. 0.]\n"
          ]
        }
      ]
    }
  ]
}